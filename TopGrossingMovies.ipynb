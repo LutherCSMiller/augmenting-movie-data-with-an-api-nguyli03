{
 "cells": [
  {
   "cell_type": "code",
   "execution_count": 149,
   "metadata": {
    "collapsed": true
   },
   "outputs": [],
   "source": [
    "%matplotlib inline\n",
    "import matplotlib as lib\n",
    "import pandas as pd\n",
    "from bs4 import BeautifulSoup\n",
    "import requests\n",
    "import json"
   ]
  },
  {
   "cell_type": "markdown",
   "metadata": {},
   "source": [
    "# Top Grossing Movies: \n",
    "1. Get the data\n",
    "2. Clean and data\n",
    "3. Transform to Pandas framework\n",
    "4. Do calculation if neccessary\n",
    "5. Explore! "
   ]
  },
  {
   "cell_type": "code",
   "execution_count": 150,
   "metadata": {
    "collapsed": false
   },
   "outputs": [
    {
     "name": "stderr",
     "output_type": "stream",
     "text": [
      "/usr/local/lib/python3.5/site-packages/bs4/__init__.py:166: UserWarning: No parser was explicitly specified, so I'm using the best available HTML parser for this system (\"lxml\"). This usually isn't a problem, but if you run this code on another system, or in a different virtual environment, it may use a different parser and behave differently.\n",
      "\n",
      "To get rid of this warning, change this:\n",
      "\n",
      " BeautifulSoup([your markup])\n",
      "\n",
      "to this:\n",
      "\n",
      " BeautifulSoup([your markup], \"lxml\")\n",
      "\n",
      "  markup_type=markup_type))\n"
     ]
    }
   ],
   "source": [
    "#Get the data and clean the data\n",
    "t=requests.get(\"http://www.the-numbers.com/movie/records/All-Time-Domestic-Box-Office\")\n",
    "soup=BeautifulSoup(t.text)\n",
    "soup.prettify()\n",
    "tgm=soup.find_all(\"tr\")\n",
    "topGrossingMovies={'Title':[],\"Year\":[],\"Domestic\":[], \"International\":[],\"Worldwide\": []}\n",
    "for i in range(1, len(tgm)):\n",
    "    x= tgm[i].find_all(\"td\")\n",
    "    topGrossingMovies['Year'].append(int(x[1].get_text().strip()))\n",
    "    topGrossingMovies['Title'].append(x[2].get_text().strip())    \n",
    "    topGrossingMovies['Domestic'].append(int(x[3].get_text().replace('$','').replace(',','').strip()))\n",
    "    topGrossingMovies['International'].append(int(x[4].get_text().replace('$','').replace(',','').strip()))\n",
    "    topGrossingMovies['Worldwide'].append(int(x[5].get_text().replace('$','').replace(',','').strip()))"
   ]
  },
  {
   "cell_type": "code",
   "execution_count": 151,
   "metadata": {
    "collapsed": false
   },
   "outputs": [
    {
     "data": {
      "text/html": [
       "<div>\n",
       "<table border=\"1\" class=\"dataframe\">\n",
       "  <thead>\n",
       "    <tr style=\"text-align: right;\">\n",
       "      <th></th>\n",
       "      <th>Title</th>\n",
       "      <th>Year</th>\n",
       "      <th>Domestic</th>\n",
       "      <th>International</th>\n",
       "      <th>Worldwide</th>\n",
       "    </tr>\n",
       "  </thead>\n",
       "  <tbody>\n",
       "    <tr>\n",
       "      <th>1</th>\n",
       "      <td>Star Wars Ep. VII: The Force Awakens</td>\n",
       "      <td>2015</td>\n",
       "      <td>936662225</td>\n",
       "      <td>1122000000</td>\n",
       "      <td>2058662225</td>\n",
       "    </tr>\n",
       "    <tr>\n",
       "      <th>2</th>\n",
       "      <td>Avatar</td>\n",
       "      <td>2009</td>\n",
       "      <td>760507625</td>\n",
       "      <td>2023411357</td>\n",
       "      <td>2783918982</td>\n",
       "    </tr>\n",
       "    <tr>\n",
       "      <th>3</th>\n",
       "      <td>Titanic</td>\n",
       "      <td>1997</td>\n",
       "      <td>658672302</td>\n",
       "      <td>1548943366</td>\n",
       "      <td>2207615668</td>\n",
       "    </tr>\n",
       "    <tr>\n",
       "      <th>4</th>\n",
       "      <td>Jurassic World</td>\n",
       "      <td>2015</td>\n",
       "      <td>652198010</td>\n",
       "      <td>1018130015</td>\n",
       "      <td>1670328025</td>\n",
       "    </tr>\n",
       "    <tr>\n",
       "      <th>5</th>\n",
       "      <td>The Avengers</td>\n",
       "      <td>2012</td>\n",
       "      <td>623279547</td>\n",
       "      <td>896200000</td>\n",
       "      <td>1519479547</td>\n",
       "    </tr>\n",
       "  </tbody>\n",
       "</table>\n",
       "</div>"
      ],
      "text/plain": [
       "                                  Title  Year   Domestic  International  \\\n",
       "1  Star Wars Ep. VII: The Force Awakens  2015  936662225     1122000000   \n",
       "2                                Avatar  2009  760507625     2023411357   \n",
       "3                               Titanic  1997  658672302     1548943366   \n",
       "4                        Jurassic World  2015  652198010     1018130015   \n",
       "5                          The Avengers  2012  623279547      896200000   \n",
       "\n",
       "    Worldwide  \n",
       "1  2058662225  \n",
       "2  2783918982  \n",
       "3  2207615668  \n",
       "4  1670328025  \n",
       "5  1519479547  "
      ]
     },
     "execution_count": 151,
     "metadata": {},
     "output_type": "execute_result"
    }
   ],
   "source": [
    "# Put the data into framework\n",
    "bdf=pd.DataFrame(topGrossingMovies)\n",
    "bdf=bdf[['Title','Year','Domestic','International','Worldwide']]\n",
    "bdf.index=bdf.index +1\n",
    "bdf.head()"
   ]
  },
  {
   "cell_type": "code",
   "execution_count": 152,
   "metadata": {
    "collapsed": true
   },
   "outputs": [],
   "source": [
    "bdf.to_csv(\"TopGrossingMovies.csv\")"
   ]
  },
  {
   "cell_type": "code",
   "execution_count": 153,
   "metadata": {
    "collapsed": true
   },
   "outputs": [],
   "source": [
    "import math\n",
    "def get_adjusted_price(year, price):\n",
    "    baseURL=\"https://www.statbureau.org/calculate-inflation-price-json?country=united-states&start={}/01/01&end=2016/08/30&amount={}\"\n",
    "    price=str(price)\n",
    "    adjusted=requests.get(baseURL.format(year,price))\n",
    "    if adjusted.status_code == 200:\n",
    "        adjustedPrice=float(adjusted.json().strip(\"$\").strip(',').replace(\" \",\"\"))\n",
    "    else:\n",
    "        adjustedPrice=math.nan\n",
    "    return adjustedPrice"
   ]
  },
  {
   "cell_type": "code",
   "execution_count": 154,
   "metadata": {
    "collapsed": false
   },
   "outputs": [],
   "source": [
    "def wrapper(row):\n",
    "    return get_adjusted_price(row.Year, row.Domestic)"
   ]
  },
  {
   "cell_type": "code",
   "execution_count": 155,
   "metadata": {
    "collapsed": false
   },
   "outputs": [
    {
     "data": {
      "text/html": [
       "<div>\n",
       "<table border=\"1\" class=\"dataframe\">\n",
       "  <thead>\n",
       "    <tr style=\"text-align: right;\">\n",
       "      <th></th>\n",
       "      <th>Title</th>\n",
       "      <th>Year</th>\n",
       "      <th>Domestic</th>\n",
       "      <th>Domestic_Adj</th>\n",
       "      <th>International</th>\n",
       "      <th>Worldwide</th>\n",
       "    </tr>\n",
       "  </thead>\n",
       "  <tbody>\n",
       "    <tr>\n",
       "      <th>9</th>\n",
       "      <td>Star Wars Ep. IV: A New Hope</td>\n",
       "      <td>1977</td>\n",
       "      <td>460998007</td>\n",
       "      <td>1.907779e+09</td>\n",
       "      <td>325600000</td>\n",
       "      <td>786598007</td>\n",
       "    </tr>\n",
       "    <tr>\n",
       "      <th>90</th>\n",
       "      <td>Jaws</td>\n",
       "      <td>1975</td>\n",
       "      <td>260000000</td>\n",
       "      <td>1.206585e+09</td>\n",
       "      <td>210700000</td>\n",
       "      <td>470700000</td>\n",
       "    </tr>\n",
       "    <tr>\n",
       "      <th>13</th>\n",
       "      <td>ET: The Extra-Terrestrial</td>\n",
       "      <td>1982</td>\n",
       "      <td>435110554</td>\n",
       "      <td>1.114869e+09</td>\n",
       "      <td>357854772</td>\n",
       "      <td>792965326</td>\n",
       "    </tr>\n",
       "    <tr>\n",
       "      <th>3</th>\n",
       "      <td>Titanic</td>\n",
       "      <td>1997</td>\n",
       "      <td>658672302</td>\n",
       "      <td>1.000272e+09</td>\n",
       "      <td>1548943366</td>\n",
       "      <td>2207615668</td>\n",
       "    </tr>\n",
       "    <tr>\n",
       "      <th>1</th>\n",
       "      <td>Star Wars Ep. VII: The Force Awakens</td>\n",
       "      <td>2015</td>\n",
       "      <td>936662225</td>\n",
       "      <td>9.607597e+08</td>\n",
       "      <td>1122000000</td>\n",
       "      <td>2058662225</td>\n",
       "    </tr>\n",
       "  </tbody>\n",
       "</table>\n",
       "</div>"
      ],
      "text/plain": [
       "                                   Title  Year   Domestic  Domestic_Adj  \\\n",
       "9           Star Wars Ep. IV: A New Hope  1977  460998007  1.907779e+09   \n",
       "90                                  Jaws  1975  260000000  1.206585e+09   \n",
       "13             ET: The Extra-Terrestrial  1982  435110554  1.114869e+09   \n",
       "3                                Titanic  1997  658672302  1.000272e+09   \n",
       "1   Star Wars Ep. VII: The Force Awakens  2015  936662225  9.607597e+08   \n",
       "\n",
       "    International   Worldwide  \n",
       "9       325600000   786598007  \n",
       "90      210700000   470700000  \n",
       "13      357854772   792965326  \n",
       "3      1548943366  2207615668  \n",
       "1      1122000000  2058662225  "
      ]
     },
     "execution_count": 155,
     "metadata": {},
     "output_type": "execute_result"
    }
   ],
   "source": [
    "bdf[\"Domestic_Adj\"]=bdf.apply(wrapper,axis=1)\n",
    "bdf=bdf[['Title','Year','Domestic','Domestic_Adj','International','Worldwide']]\n",
    "bdf.sort_values(by=[\"Domestic_Adj\"], ascending=False).head()"
   ]
  },
  {
   "cell_type": "code",
   "execution_count": 156,
   "metadata": {
    "collapsed": false
   },
   "outputs": [],
   "source": [
    "import math\n",
    "def get_data(title, year):\n",
    "    url=\"http://www.omdbapi.com?t={}&y={}&r=json&plot=short&type=movie\"\n",
    "    title=str(title)\n",
    "    year=str(year)\n",
    "    data=requests.get(url.format(title,year))\n",
    "    if data.status_code == 200:\n",
    "        data=data.json()\n",
    "    else:\n",
    "        data=\"N/a\"\n",
    "    return data\n",
    "def get_actors(row):\n",
    "    data=get_data(row.Title,row.Year)\n",
    "    if data==\"N/a\":\n",
    "        return \"N/a\"\n",
    "    elif \"Error\" in data.keys():\n",
    "        return \"N/a\"\n",
    "    else:\n",
    "        return data['Actors']\n",
    "def get_imdbRating(row):\n",
    "    data=get_data(row.Title,row.Year)\n",
    "    if data==\"N/a\":\n",
    "        return math.nan\n",
    "    elif \"Error\" in data.keys():\n",
    "        return math.nan\n",
    "    else:\n",
    "        return data['imdbRating']\n",
    "def get_Runtime(row):\n",
    "    data=get_data(row.Title,row.Year)\n",
    "    if data==\"N/a\":\n",
    "        return math.nan\n",
    "    elif \"Error\" in data.keys():\n",
    "        return math.nan\n",
    "    else:\n",
    "        return data['Runtime']\n",
    "def get_Genre(row):\n",
    "    data=get_data(row.Title,row.Year)\n",
    "    if data==\"N/a\":\n",
    "        return \"N/a\"\n",
    "    elif \"Error\" in data.keys():\n",
    "        return \"N/a\"\n",
    "    else:\n",
    "        return data['Genre']"
   ]
  },
  {
   "cell_type": "code",
   "execution_count": 159,
   "metadata": {
    "collapsed": false
   },
   "outputs": [
    {
     "data": {
      "text/plain": [
       "{'Error': 'Movie not found!', 'Response': 'False'}"
      ]
     },
     "execution_count": 159,
     "metadata": {},
     "output_type": "execute_result"
    }
   ],
   "source": [
    "data=get_data(\"Star Wars IV\",2014)\n",
    "data"
   ]
  },
  {
   "cell_type": "code",
   "execution_count": 167,
   "metadata": {
    "collapsed": false
   },
   "outputs": [
    {
     "data": {
      "text/html": [
       "<div>\n",
       "<table border=\"1\" class=\"dataframe\">\n",
       "  <thead>\n",
       "    <tr style=\"text-align: right;\">\n",
       "      <th></th>\n",
       "      <th>Title</th>\n",
       "      <th>Genre</th>\n",
       "      <th>Year</th>\n",
       "      <th>Actors</th>\n",
       "      <th>Runtime</th>\n",
       "      <th>imdbRating</th>\n",
       "      <th>Domestic</th>\n",
       "      <th>Domestic_Adj</th>\n",
       "      <th>International</th>\n",
       "      <th>Worldwide</th>\n",
       "    </tr>\n",
       "  </thead>\n",
       "  <tbody>\n",
       "    <tr>\n",
       "      <th>6</th>\n",
       "      <td>The Dark Knight</td>\n",
       "      <td>Action, Crime, Drama</td>\n",
       "      <td>2008</td>\n",
       "      <td>Christian Bale, Heath Ledger, Aaron Eckhart, Michael Caine</td>\n",
       "      <td>152 min</td>\n",
       "      <td>9.0</td>\n",
       "      <td>533345358</td>\n",
       "      <td>6.115991e+08</td>\n",
       "      <td>469546000</td>\n",
       "      <td>1002891358</td>\n",
       "    </tr>\n",
       "    <tr>\n",
       "      <th>28</th>\n",
       "      <td>The Lord of the Rings: The Return of the King</td>\n",
       "      <td>Action, Adventure, Drama</td>\n",
       "      <td>2003</td>\n",
       "      <td>Noel Appleby, Ali Astin, Sean Astin, David Aston</td>\n",
       "      <td>201 min</td>\n",
       "      <td>8.9</td>\n",
       "      <td>377845905</td>\n",
       "      <td>5.030698e+08</td>\n",
       "      <td>763562762</td>\n",
       "      <td>1141408667</td>\n",
       "    </tr>\n",
       "    <tr>\n",
       "      <th>47</th>\n",
       "      <td>Forrest Gump</td>\n",
       "      <td>Comedy, Drama</td>\n",
       "      <td>1994</td>\n",
       "      <td>Tom Hanks, Rebecca Williams, Sally Field, Michael Conner Humphreys</td>\n",
       "      <td>142 min</td>\n",
       "      <td>8.8</td>\n",
       "      <td>330151138</td>\n",
       "      <td>5.453902e+08</td>\n",
       "      <td>349706026</td>\n",
       "      <td>679857164</td>\n",
       "    </tr>\n",
       "    <tr>\n",
       "      <th>53</th>\n",
       "      <td>The Lord of the Rings: The Fellowship of the Ring</td>\n",
       "      <td>Action, Adventure, Drama</td>\n",
       "      <td>2001</td>\n",
       "      <td>Alan Howard, Noel Appleby, Sean Astin, Sala Baker</td>\n",
       "      <td>178 min</td>\n",
       "      <td>8.8</td>\n",
       "      <td>315544750</td>\n",
       "      <td>4.367810e+08</td>\n",
       "      <td>571672938</td>\n",
       "      <td>887217688</td>\n",
       "    </tr>\n",
       "    <tr>\n",
       "      <th>69</th>\n",
       "      <td>Inception</td>\n",
       "      <td>Action, Adventure, Sci-Fi</td>\n",
       "      <td>2010</td>\n",
       "      <td>Leonardo DiCaprio, Joseph Gordon-Levitt, Ellen Page, Tom Hardy</td>\n",
       "      <td>148 min</td>\n",
       "      <td>8.8</td>\n",
       "      <td>292576195</td>\n",
       "      <td>3.263171e+08</td>\n",
       "      <td>540008221</td>\n",
       "      <td>832584416</td>\n",
       "    </tr>\n",
       "  </tbody>\n",
       "</table>\n",
       "</div>"
      ],
      "text/plain": [
       "                                                Title  \\\n",
       "6   The Dark Knight                                     \n",
       "28  The Lord of the Rings: The Return of the King       \n",
       "47  Forrest Gump                                        \n",
       "53  The Lord of the Rings: The Fellowship of the Ring   \n",
       "69  Inception                                           \n",
       "\n",
       "                        Genre  Year  \\\n",
       "6   Action, Crime, Drama       2008   \n",
       "28  Action, Adventure, Drama   2003   \n",
       "47  Comedy, Drama              1994   \n",
       "53  Action, Adventure, Drama   2001   \n",
       "69  Action, Adventure, Sci-Fi  2010   \n",
       "\n",
       "                                                                Actors  \\\n",
       "6   Christian Bale, Heath Ledger, Aaron Eckhart, Michael Caine           \n",
       "28  Noel Appleby, Ali Astin, Sean Astin, David Aston                     \n",
       "47  Tom Hanks, Rebecca Williams, Sally Field, Michael Conner Humphreys   \n",
       "53  Alan Howard, Noel Appleby, Sean Astin, Sala Baker                    \n",
       "69  Leonardo DiCaprio, Joseph Gordon-Levitt, Ellen Page, Tom Hardy       \n",
       "\n",
       "    Runtime imdbRating   Domestic  Domestic_Adj  International   Worldwide  \n",
       "6   152 min  9.0        533345358  6.115991e+08  469546000      1002891358  \n",
       "28  201 min  8.9        377845905  5.030698e+08  763562762      1141408667  \n",
       "47  142 min  8.8        330151138  5.453902e+08  349706026      679857164   \n",
       "53  178 min  8.8        315544750  4.367810e+08  571672938      887217688   \n",
       "69  148 min  8.8        292576195  3.263171e+08  540008221      832584416   "
      ]
     },
     "execution_count": 167,
     "metadata": {},
     "output_type": "execute_result"
    }
   ],
   "source": [
    "pd.set_option('display.max_colwidth', -1)\n",
    "bdf['Actors']=bdf.apply(get_actors,axis=1)\n",
    "bdf['Actors'].str.wrap(30,break_long_words=False,break_on_hyphens=False)\n",
    "bdf['imdbRating']=bdf.apply(get_imdbRating,axis=1)\n",
    "bdf['Runtime']=bdf.apply(get_Runtime,axis=1)\n",
    "bdf['Genre']=bdf.apply(get_Genre,axis=1)\n",
    "bdf=bdf[['Title','Genre','Year',\"Actors\",'Runtime',\"imdbRating\",'Domestic','Domestic_Adj',\"International\",'Worldwide']]\n",
    "bdf.sort_values(by=[\"imdbRating\",\"Domestic_Adj\"], ascending=False).head()"
   ]
  },
  {
   "cell_type": "code",
   "execution_count": null,
   "metadata": {
    "collapsed": true
   },
   "outputs": [],
   "source": []
  }
 ],
 "metadata": {
  "kernelspec": {
   "display_name": "Python 3",
   "language": "python",
   "name": "python3"
  },
  "language_info": {
   "codemirror_mode": {
    "name": "ipython",
    "version": 3
   },
   "file_extension": ".py",
   "mimetype": "text/x-python",
   "name": "python",
   "nbconvert_exporter": "python",
   "pygments_lexer": "ipython3",
   "version": "3.5.1"
  }
 },
 "nbformat": 4,
 "nbformat_minor": 0
}
